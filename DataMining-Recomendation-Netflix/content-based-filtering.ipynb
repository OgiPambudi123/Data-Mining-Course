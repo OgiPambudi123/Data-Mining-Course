{
 "cells": [
  {
   "cell_type": "markdown",
   "metadata": {},
   "source": [
    "## Import Library"
   ]
  },
  {
   "cell_type": "code",
   "execution_count": 1,
   "metadata": {},
   "outputs": [],
   "source": [
    "import pandas as pd\n",
    "from sklearn.feature_extraction.text import TfidfVectorizer\n",
    "from sklearn.metrics.pairwise import linear_kernel"
   ]
  },
  {
   "cell_type": "markdown",
   "metadata": {},
   "source": [
    "## Import data & data selection "
   ]
  },
  {
   "cell_type": "code",
   "execution_count": 2,
   "metadata": {},
   "outputs": [],
   "source": [
    "df = pd.read_csv('netflix_titles.csv')\n",
    "\n",
    "# Replace NaN with an empty string\n",
    "df['description'] = df['description'].fillna('')"
   ]
  },
  {
   "cell_type": "markdown",
   "metadata": {},
   "source": [
    "## Tokenisasi menggunakan TF-IDF"
   ]
  },
  {
   "cell_type": "code",
   "execution_count": 3,
   "metadata": {},
   "outputs": [
    {
     "data": {
      "text/plain": [
       "(8807, 18895)"
      ]
     },
     "execution_count": 3,
     "metadata": {},
     "output_type": "execute_result"
    }
   ],
   "source": [
    "# Create a TfidfVectorizer and Remove stopwords\n",
    "tfidf = TfidfVectorizer(stop_words='english')\n",
    "# Fit and transform the data to a tfidf matrix\n",
    "tfidf_matrix = tfidf.fit_transform(df['description'])\n",
    "# Print the shape of the tfidf_matrix\n",
    "tfidf_matrix.shape"
   ]
  },
  {
   "cell_type": "markdown",
   "metadata": {},
   "source": [
    "## Menghitung tingkat kesamaan/similarity"
   ]
  },
  {
   "cell_type": "code",
   "execution_count": 4,
   "metadata": {},
   "outputs": [],
   "source": [
    "# Compute the cosine similarity between each movie description\n",
    "cosine_sim = linear_kernel(tfidf_matrix, tfidf_matrix)"
   ]
  },
  {
   "cell_type": "markdown",
   "metadata": {},
   "source": [
    "Pembuatan fungsi\n",
    "Membuat series bernama indices dimana index nya akan sama dengan judul film"
   ]
  },
  {
   "cell_type": "code",
   "execution_count": 5,
   "metadata": {},
   "outputs": [],
   "source": [
    "indices = pd.Series(df.index, index=df['title']).drop_duplicates()"
   ]
  },
  {
   "cell_type": "markdown",
   "metadata": {},
   "source": [
    "fungsi get_recommendation akan menerima parameter berupa judul film, nilai\n",
    "cosine similarity, dan jumlah rekomendasi yang diinginkan. Lalu outputnya adlah\n",
    "berupa daftar rekomendasi."
   ]
  },
  {
   "cell_type": "code",
   "execution_count": 6,
   "metadata": {},
   "outputs": [],
   "source": [
    "def get_recommendations(title, cosine_sim=cosine_sim, num_recommend = 10):\n",
    "    idx = indices[title]\n",
    "\n",
    "# Get the pairwsie similarity scores of all movies with that movie\n",
    "    sim_scores = list(enumerate(cosine_sim[idx]))\n",
    "\n",
    "# Sort the movies based on the similarity scores\n",
    "    sim_scores = sorted(sim_scores, key=lambda x: x[1], reverse=True)\n",
    "\n",
    "# Get the scores of the 10 most similar movies\n",
    "    top_similar = sim_scores[1:num_recommend+1]\n",
    "\n",
    "# Get the movie indices\n",
    "    movie_indices = [i[0] for i in top_similar]\n",
    "\n",
    "# Return the top 10 most similar movies\n",
    "    return df['title'].iloc[movie_indices]"
   ]
  },
  {
   "cell_type": "markdown",
   "metadata": {},
   "source": [
    "## Testing fungsi"
   ]
  },
  {
   "cell_type": "code",
   "execution_count": 7,
   "metadata": {},
   "outputs": [
    {
     "data": {
      "text/plain": [
       "5952                     Victim of Beauty\n",
       "200                       Krishna Cottage\n",
       "4453                No One Killed Jessica\n",
       "6379                    Brooklyn's Finest\n",
       "6212                          Bad Boys II\n",
       "3090                      Blitz Patrollie\n",
       "3065                              Messiah\n",
       "2220                 Ip Man 4: The Finale\n",
       "7341                Losing Sight of Shore\n",
       "4234    Gina Yashere: Laughing to America\n",
       "6310                 Bill Burr: Let It Go\n",
       "3710                    Answer for Heaven\n",
       "3966                       The Highwaymen\n",
       "3615                         Wu Assassins\n",
       "5378                  D.L. Hughley: Clear\n",
       "2138                            Christine\n",
       "3787                            Bad Blood\n",
       "5957                 To and From New York\n",
       "3579                       Green Frontier\n",
       "3770                    Tales of the City\n",
       "Name: title, dtype: object"
      ]
     },
     "execution_count": 7,
     "metadata": {},
     "output_type": "execute_result"
    }
   ],
   "source": [
    "get_recommendations('Zodiac', num_recommend = 20)"
   ]
  },
  {
   "cell_type": "code",
   "execution_count": null,
   "metadata": {},
   "outputs": [],
   "source": []
  }
 ],
 "metadata": {
  "kernelspec": {
   "display_name": "Python 3",
   "language": "python",
   "name": "python3"
  },
  "language_info": {
   "codemirror_mode": {
    "name": "ipython",
    "version": 3
   },
   "file_extension": ".py",
   "mimetype": "text/x-python",
   "name": "python",
   "nbconvert_exporter": "python",
   "pygments_lexer": "ipython3",
   "version": "3.10.12"
  }
 },
 "nbformat": 4,
 "nbformat_minor": 2
}
